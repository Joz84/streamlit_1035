{
 "cells": [
  {
   "cell_type": "markdown",
   "id": "advisory-occasion",
   "metadata": {},
   "source": [
    "# Coucou"
   ]
  },
  {
   "cell_type": "markdown",
   "id": "bored-chamber",
   "metadata": {},
   "source": [
    "_Gras_"
   ]
  },
  {
   "cell_type": "code",
   "execution_count": null,
   "id": "intensive-spring",
   "metadata": {},
   "outputs": [],
   "source": []
  }
 ],
 "metadata": {
  "kernelspec": {
   "display_name": "Python 3",
   "language": "python",
   "name": "python3"
  },
  "language_info": {
   "codemirror_mode": {
    "name": "ipython",
    "version": 3
   },
   "file_extension": ".py",
   "mimetype": "text/x-python",
   "name": "python",
   "nbconvert_exporter": "python",
   "pygments_lexer": "ipython3",
   "version": "3.8.6"
  },
  "toc": {
   "base_numbering": 1,
   "nav_menu": {},
   "number_sections": true,
   "sideBar": true,
   "skip_h1_title": false,
   "title_cell": "Table of Contents",
   "title_sidebar": "Contents",
   "toc_cell": false,
   "toc_position": {},
   "toc_section_display": true,
   "toc_window_display": false
  }
 },
 "nbformat": 4,
 "nbformat_minor": 5
}
